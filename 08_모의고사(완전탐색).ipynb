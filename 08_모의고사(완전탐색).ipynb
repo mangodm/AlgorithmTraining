{
 "cells": [
  {
   "cell_type": "markdown",
   "metadata": {},
   "source": [
    "### 모의고사 - 완전탐색\n",
    "\n",
    "#### 문제 설명\n",
    "\n",
    "수포자 삼인방은 모의고사에 수학 문제를 전부 찍으려 합니다. 수포자는 1번 문제부터 마지막 문제까지 다음과 같이 찍습니다.\n",
    "\n",
    "1번 수포자가 찍는 방식: 1, 2, 3, 4, 5, 1, 2, 3, 4, 5, ...\n",
    "\n",
    "2번 수포자가 찍는 방식: 2, 1, 2, 3, 2, 4, 2, 5, 2, 1, 2, 3, 2, 4, 2, 5, ...\n",
    "\n",
    "3번 수포자가 찍는 방식: 3, 3, 1, 1, 2, 2, 4, 4, 5, 5, 3, 3, 1, 1, 2, 2, 4, 4, 5, 5, ...\n",
    "\n",
    "1번 문제부터 마지막 문제까지의 정답이 순서대로 들은 배열 answers가 주어졌을 때, 가장 많은 문제를 맞힌 사람이 누구인지 배열에 담아 return 하도록 solution 함수를 작성해주세요.\n",
    "\n",
    "#### 제한 조건\n",
    "\n",
    "시험은 최대 10,000 문제로 구성되어있습니다.\n",
    "\n",
    "문제의 정답은 1, 2, 3, 4, 5중 하나입니다.\n",
    "\n",
    "가장 높은 점수를 받은 사람이 여럿일 경우, return하는 값을 오름차순 정렬해주세요."
   ]
  },
  {
   "cell_type": "code",
   "execution_count": 22,
   "metadata": {},
   "outputs": [],
   "source": [
    "# 1) enumerate 사용\n",
    "\n",
    "def solution(answers):\n",
    "    su1 = [1, 2, 3, 4, 5]\n",
    "    su2 = [2, 1, 2, 3, 2, 4, 2, 5]\n",
    "    su3 = [3, 3, 1, 1, 2, 2, 4, 4, 5, 5]\n",
    "    scores = [0, 0, 0] # su1, su2, su3의 점수 기록\n",
    "    result = [] \n",
    "    \n",
    "    for i, answer in enumerate(answers): # enumerate 함수: answer의 순서(index)와 값을 반환\n",
    "        if answer == su1[i%len(su1)]:\n",
    "            scores[0] += 1\n",
    "        if answer == su2[i%len(su2)]:\n",
    "            scores[1] += 1\n",
    "        if answer == su3[i%len(su3)]:\n",
    "            scores[2] += 1\n",
    "    \n",
    "    for i, score in enumerate(scores):\n",
    "        if score == max(scores):\n",
    "            result.append(i+1)\n",
    "            \n",
    "    return result"
   ]
  },
  {
   "cell_type": "code",
   "execution_count": 25,
   "metadata": {},
   "outputs": [
    {
     "name": "stdout",
     "output_type": "stream",
     "text": [
      "[1]\n",
      "[1, 2, 3]\n"
     ]
    }
   ],
   "source": [
    "# 1) test\n",
    "print(solution([1, 2, 3, 4, 5])) # su1이 가장 높은 점수 기록\n",
    "print(solution([1, 3, 2, 4, 2])) # su1, su2, su3 모두 높은 점수 기록"
   ]
  }
 ],
 "metadata": {
  "kernelspec": {
   "display_name": "Python 3",
   "language": "python",
   "name": "python3"
  },
  "language_info": {
   "codemirror_mode": {
    "name": "ipython",
    "version": 3
   },
   "file_extension": ".py",
   "mimetype": "text/x-python",
   "name": "python",
   "nbconvert_exporter": "python",
   "pygments_lexer": "ipython3",
   "version": "3.6.5"
  }
 },
 "nbformat": 4,
 "nbformat_minor": 2
}
